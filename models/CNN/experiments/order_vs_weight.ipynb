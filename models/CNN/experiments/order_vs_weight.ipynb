{
 "cells": [
  {
   "cell_type": "markdown",
   "metadata": {
    "collapsed": true,
    "pycharm": {
     "name": "#%% md\n"
    }
   },
   "source": [
    "## Correlation between the Rank of Explanations ${\\alpha}_i\\phi(\\mathbf{x}_i)^T\\phi(\\mathbf{x}_t)$ and term ${\\alpha}_i\\phi(\\mathbf{x}_i)$ for RPS-$l_2$ and RPS-LJE\n",
    "Figure 2"
   ]
  },
  {
   "cell_type": "code",
   "execution_count": null,
   "outputs": [],
   "source": [
    "import torch\n",
    "import numpy as np\n",
    "from matplotlib import pyplot as plt\n",
    "\n",
    "path = '../saved_models/base'\n",
    "file = np.load('{}/model/saved_outputs.npz'.format(path))\n",
    "intermediate_train = file['intermediate_train']\n",
    "intermediate_test = file['intermediate_test']\n",
    "labels_train = file['labels_train']\n",
    "labels_test = file['labels_test']\n",
    "\n",
    "pred_train = file['pred_train'].squeeze()\n",
    "pred_test = file['pred_test'].squeeze()\n",
    "\n"
   ],
   "metadata": {
    "collapsed": false,
    "pycharm": {
     "name": "#%%\n"
    }
   }
  },
  {
   "cell_type": "code",
   "execution_count": 16,
   "outputs": [],
   "source": [
    "weight_matrix_rep = np.load('{}/calculated_weights/representer_weight_matrix.npz'.format(path), allow_pickle=True)['weight_matrix']\n",
    "weight_matrix_influence = np.load('{}/calculated_weights/influence_weight_matrix.npz'.format(path), allow_pickle=True)['weight_matrix'].squeeze()\n",
    "jaccobian_test = np.load('{}/calculated_weights/influence_weight_matrix.npz'.format(path), allow_pickle=True)['jaccobian_test']\n",
    "weight_matrix_ours = np.load('{}/calculated_weights/ours_weight_matrix_with_lr_0.01.npz'.format(path), allow_pickle=True)['weight_matrix'].squeeze()"
   ],
   "metadata": {
    "collapsed": false,
    "pycharm": {
     "name": "#%%\n"
    }
   }
  },
  {
   "cell_type": "code",
   "execution_count": 17,
   "outputs": [],
   "source": [
    "alpha_fi_rep = weight_matrix_rep*intermediate_train"
   ],
   "metadata": {
    "collapsed": false,
    "pycharm": {
     "name": "#%%\n"
    }
   }
  },
  {
   "cell_type": "code",
   "execution_count": 18,
   "outputs": [],
   "source": [
    "def get_all_influence(test_point):\n",
    "    representer_weight = weight_matrix_rep[:,0] * np.dot(intermediate_train,\n",
    "                                           intermediate_test[test_point,:])\n",
    "    ours_weight = np.dot(weight_matrix_ours,\n",
    "                 intermediate_test[test_point,:])\n",
    "    return representer_weight, ours_weight"
   ],
   "metadata": {
    "collapsed": false,
    "pycharm": {
     "name": "#%%\n"
    }
   }
  },
  {
   "cell_type": "code",
   "execution_count": 19,
   "outputs": [],
   "source": [
    "test_points = np.random.randint(0,2000, size=(500))\n",
    "x_rep = []\n",
    "x_ours = []\n",
    "y = []\n",
    "for test_point in test_points:\n",
    "    representer_weight, ours_weight = get_all_influence(test_point)\n",
    "    order_rep = np.abs(representer_weight).argsort()\n",
    "    order_ours = np.abs(ours_weight).argsort()\n",
    "    for i in range(10000):\n",
    "        y.append(i)\n",
    "        x_rep.append(np.linalg.norm(alpha_fi_rep[order_rep[i]]))\n",
    "        x_ours.append(np.linalg.norm(weight_matrix_ours[order_ours[i]]))\n",
    "y = np.stack(y)\n",
    "x_rep = np.stack(x_rep)\n",
    "x_ours = np.stack(x_ours)"
   ],
   "metadata": {
    "collapsed": false,
    "pycharm": {
     "name": "#%%\n"
    }
   }
  },
  {
   "cell_type": "code",
   "execution_count": 20,
   "outputs": [
    {
     "name": "stdout",
     "output_type": "stream",
     "text": [
      "rank of $|\\alpha_ik(\\mathbf{x}_i,\\mathbf{x}_j)|$\n"
     ]
    }
   ],
   "source": [
    "y_name = 'rank of $|\\\\alpha_ik(\\mathbf{x}_i,\\mathbf{x}_j)|$'\n",
    "x_name = 'vector length of $\\\\alpha_i \\phi(\\mathbf{x}_i)$'\n",
    "print(y_name)"
   ],
   "metadata": {
    "collapsed": false,
    "pycharm": {
     "name": "#%%\n"
    }
   }
  },
  {
   "cell_type": "code",
   "execution_count": 21,
   "outputs": [],
   "source": [
    "import pandas as pd\n",
    "\n",
    "df_rep = pd.DataFrame({y_name:y, x_name:x_rep})\n",
    "df_ours = pd.DataFrame({y_name:y, x_name:x_ours})\n",
    "# df_rep.to_csv('Importance_vs_weight_rep.csv')\n",
    "# df_ours.to_csv('Importance_vs_weight_ours.csv')"
   ],
   "metadata": {
    "collapsed": false,
    "pycharm": {
     "name": "#%%\n"
    }
   }
  },
  {
   "cell_type": "code",
   "execution_count": null,
   "outputs": [],
   "source": [
    "# df_rep = pd.read_csv('Importance_vs_weight_rep.csv', index_col=0)\n",
    "# df_ours = pd.read_csv('Importance_vs_weight_ours.csv', index_col=0)\n"
   ],
   "metadata": {
    "collapsed": false,
    "pycharm": {
     "name": "#%%\n"
    }
   }
  },
  {
   "cell_type": "code",
   "execution_count": 24,
   "outputs": [
    {
     "data": {
      "text/plain": "<Figure size 360x180 with 1 Axes>",
      "image/png": "[encoded data removed]"
     },
     "metadata": {
      "needs_background": "light"
     },
     "output_type": "display_data"
    }
   ],
   "source": [
    "plt.figure(figsize=(5,2.5))\n",
    "plt.plot(x_name, y_name, data=df_rep,\n",
    "             marker='o',markersize=5, linestyle='none')\n",
    "plt.xlabel(x_name)\n",
    "plt.ylabel(y_name, labelpad=0)\n",
    "plt.ticklabel_format(style='sci', axis='y', scilimits=(0,4))\n",
    "plt.savefig('figs/order_vs_weight_rep.png',  dpi=300, bbox_inches='tight')\n",
    "\n",
    "plt.show()"
   ],
   "metadata": {
    "collapsed": false,
    "pycharm": {
     "name": "#%%\n"
    }
   }
  },
  {
   "cell_type": "code",
   "execution_count": 25,
   "outputs": [
    {
     "data": {
      "text/plain": "<Figure size 360x180 with 1 Axes>",
      "image/png": "[encoded data removed]"
     },
     "metadata": {
      "needs_background": "light"
     },
     "output_type": "display_data"
    }
   ],
   "source": [
    "plt.figure(figsize=(5,2.5))\n",
    "plt.plot(x_name, y_name, data=df_ours,\n",
    "             marker='o',markersize=5, linestyle='none')\n",
    "plt.xlabel(x_name)\n",
    "plt.ylabel(y_name, labelpad=0)\n",
    "plt.ticklabel_format(style='sci', axis='y', scilimits=(0,4))\n",
    "plt.savefig('figs/order_vs_weight_ours.png', dpi=300, bbox_inches='tight')\n",
    "\n",
    "plt.show()"
   ],
   "metadata": {
    "collapsed": false,
    "pycharm": {
     "name": "#%%\n"
    }
   }
  }
 ],
 "metadata": {
  "kernelspec": {
   "display_name": "Python 3",
   "language": "python",
   "name": "python3"
  },
  "language_info": {
   "codemirror_mode": {
    "name": "ipython",
    "version": 2
   },
   "file_extension": ".py",
   "mimetype": "text/x-python",
   "name": "python",
   "nbconvert_exporter": "python",
   "pygments_lexer": "ipython2",
   "version": "2.7.6"
  }
 },
 "nbformat": 4,
 "nbformat_minor": 0
}