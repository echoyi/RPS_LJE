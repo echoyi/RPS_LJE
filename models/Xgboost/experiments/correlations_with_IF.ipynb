{
 "cells": [
  {
   "cell_type": "markdown",
   "metadata": {
    "collapsed": true,
    "pycharm": {
     "name": "#%% md\n"
    }
   },
   "source": [
    "## Pearson and Spearman correlations between the top-5 explanations from RPS-LJE and Influence Functions\n",
    "Table 7 (appendix) and Table 8 (appendix)"
   ]
  },
  {
   "cell_type": "code",
   "execution_count": 92,
   "outputs": [],
   "source": [
    "import numpy as np\n",
    "import torch\n",
    "import pandas as pd"
   ],
   "metadata": {
    "collapsed": false,
    "pycharm": {
     "name": "#%%\n"
    }
   }
  },
  {
   "cell_type": "code",
   "execution_count": 93,
   "outputs": [],
   "source": [
    "path = \"../data\"\n",
    "X_train_clean_res = pd.read_csv('{}/X_train_clean_res.csv'.format(path), index_col=0)\n",
    "y_train_clean_res = pd.read_csv('{}/Y_train_clean_res.csv'.format(path), index_col=0)\n",
    "X_test_clean = pd.read_csv('{}/X_test_clean.csv'.format(path), index_col=0)\n",
    "y_test_clean = pd.read_csv('{}/Y_test_clean.csv'.format(path), index_col=0)\n",
    "X_train_clean = pd.read_csv('{}/X_train_clean.csv'.format(path), index_col=0)\n",
    "y_train_clean = pd.read_csv('{}/Y_train_clean.csv'.format(path), index_col=0)\n",
    "\n",
    "data = pd.read_csv('{}/german_data.csv'.format(path), index_col=0)\n",
    "data_translated = pd.read_csv('{}/german_data_translated.csv'.format(path), index_col=0)"
   ],
   "metadata": {
    "collapsed": false,
    "pycharm": {
     "name": "#%%\n"
    }
   }
  },
  {
   "cell_type": "code",
   "execution_count": 94,
   "outputs": [],
   "source": [
    "path = '../saved_models/base'\n",
    "\n",
    "weight_matrix_influence = np.load('{}/calculated_weights/influence_weight_matrix.npz'.format(path), allow_pickle=True)['weight_matrix'].squeeze()\n",
    "grad_test = np.load('{}/calculated_weights/influence_weight_matrix.npz'.format(path), allow_pickle=True)['jaccobian_test']\n",
    "weight_matrix_ours = np.load('{}/calculated_weights/ours_weight_matrix_with_lr_0.0001.npz'.format(path), allow_pickle=True)['weight_matrix'].squeeze()\n",
    "file = np.load('{}/model/saved_outputs.npz'.format(path))\n",
    "intermediate_train = torch.from_numpy(file['intermediate_train'])\n",
    "intermediate_test = torch.from_numpy(file['intermediate_test'])\n",
    "labels_train = file['labels_train']\n",
    "labels_test = file['labels_test']\n",
    "pred_train = file['pred_train']\n",
    "pred_test = file['pred_test']"
   ],
   "metadata": {
    "collapsed": false,
    "pycharm": {
     "name": "#%%\n"
    }
   }
  },
  {
   "cell_type": "code",
   "execution_count": 96,
   "outputs": [],
   "source": [
    "wrongly_predicted_train_ids = np.argwhere(np.abs(pred_train-labels_train)>0).flatten()\n",
    "wrongly_predicted_test_ids = np.argwhere(np.abs(pred_test-labels_test)>0).flatten()\n"
   ],
   "metadata": {
    "collapsed": false,
    "pycharm": {
     "name": "#%%\n"
    }
   }
  },
  {
   "cell_type": "code",
   "execution_count": 97,
   "outputs": [],
   "source": [
    "names = ['existingchecking', 'duration', 'credithistory', 'purpose', 'creditamount',\n",
    "         'savings', 'employmentsince', 'installmentrate', 'statussex', 'otherdebtors',\n",
    "         'residencesince', 'property', 'age', 'otherinstallmentplans', 'housing',\n",
    "         'existingcredits', 'job', 'peopleliable', 'telephone', 'foreignworker', 'classification']\n",
    "def get_influence_order(test_point=None):\n",
    "    tmp = grad_test[test_point, 0]@ np.transpose(weight_matrix_influence)\n",
    "    pos_idx = np.argsort(tmp)\n",
    "    return pos_idx, tmp\n",
    "\n",
    "def get_ours_order(test_point=None):\n",
    "    true_class = labels_test[test_point]\n",
    "    tmp = np.dot(weight_matrix_ours,\n",
    "                 intermediate_test[test_point,:])\n",
    "    if true_class == 1:\n",
    "        pos_idx = np.flip(np.argsort(tmp), axis=0)\n",
    "        tmp = -tmp\n",
    "    else:\n",
    "        pos_idx = np.argsort(tmp)\n",
    "    return pos_idx, tmp"
   ],
   "metadata": {
    "collapsed": false,
    "pycharm": {
     "name": "#%%\n"
    }
   }
  },
  {
   "cell_type": "code",
   "execution_count": 98,
   "outputs": [],
   "source": [
    "from scipy.stats import spearmanr, pearsonr\n",
    "\n",
    "pearson_correlation_list = []\n",
    "spearman_correlation_list = []\n",
    "for i in range(len(y_test_clean)):\n",
    "    order_inf, importance_inf = get_influence_order(test_point=i)\n",
    "    order_ours, importance_ours = get_ours_order(test_point=i)\n",
    "    top_5_idx = list(set(order_inf[:5]).union(set(order_ours[:5])))\n",
    "    pearson_correlation_list.append(pearsonr(importance_inf[top_5_idx],\n",
    "                                             importance_ours[top_5_idx])[0])\n",
    "    spearman_correlation_list.append(spearmanr(importance_inf[top_5_idx],\n",
    "                                               importance_ours[top_5_idx])[0])\n"
   ],
   "metadata": {
    "collapsed": false,
    "pycharm": {
     "name": "#%%\n"
    }
   }
  },
  {
   "cell_type": "code",
   "execution_count": 101,
   "outputs": [
    {
     "data": {
      "text/plain": "array([-0.86289155, -0.86289155, -0.72018389, -0.56946209, -0.29982185,\n       -0.0569823 ,  0.24517137,  0.60257427])"
     },
     "execution_count": 101,
     "metadata": {},
     "output_type": "execute_result"
    }
   ],
   "source": [
    "np.quantile(pearson_correlation_list,\n",
    "            q=[0.0001,0.001, 0.01,0.1,0.3,0.5,0.7,0.9],\n",
    "            interpolation='lower')\n"
   ],
   "metadata": {
    "collapsed": false,
    "pycharm": {
     "name": "#%%\n"
    }
   }
  },
  {
   "cell_type": "code",
   "execution_count": 102,
   "outputs": [
    {
     "data": {
      "text/plain": "array([-0.82142857, -0.82142857, -0.81818182, -0.66666667, -0.38333333,\n       -0.14285714,  0.07142857,  0.42857143])"
     },
     "execution_count": 102,
     "metadata": {},
     "output_type": "execute_result"
    }
   ],
   "source": [
    "\n",
    "np.quantile(spearman_correlation_list,\n",
    "            q=[0.0001,0.001, 0.01,0.1,0.3,0.5,0.7,0.9],\n",
    "            interpolation='lower')\n",
    "\n"
   ],
   "metadata": {
    "collapsed": false,
    "pycharm": {
     "name": "#%%\n"
    }
   }
  }
 ],
 "metadata": {
  "kernelspec": {
   "name": "pycharm-6ec1b404",
   "language": "python",
   "display_name": "PyCharm (MAPSED)"
  },
  "language_info": {
   "codemirror_mode": {
    "name": "ipython",
    "version": 2
   },
   "file_extension": ".py",
   "mimetype": "text/x-python",
   "name": "python",
   "nbconvert_exporter": "python",
   "pygments_lexer": "ipython2",
   "version": "2.7.6"
  }
 },
 "nbformat": 4,
 "nbformat_minor": 0
}