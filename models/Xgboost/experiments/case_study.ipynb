{
 "cells": [
  {
   "cell_type": "markdown",
   "source": [
    "## Explanations of RPS-LJE and Influence Function on German Credit Risk Analysis with XGBoost\n",
    "Table 2 and Table 11 (appendix)"
   ],
   "metadata": {
    "collapsed": false,
    "pycharm": {
     "name": "#%% md\n"
    }
   }
  },
  {
   "cell_type": "code",
   "execution_count": 1,
   "metadata": {
    "collapsed": true
   },
   "outputs": [],
   "source": [
    "import numpy as np\n",
    "import torch\n",
    "import pandas as pd"
   ]
  },
  {
   "cell_type": "code",
   "execution_count": 2,
   "outputs": [],
   "source": [
    "path = \"../data\"\n",
    "X_train_clean_res = pd.read_csv('{}/X_train_clean_res.csv'.format(path), index_col=0)\n",
    "y_train_clean_res = pd.read_csv('{}/Y_train_clean_res.csv'.format(path), index_col=0)\n",
    "X_test_clean = pd.read_csv('{}/X_test_clean.csv'.format(path), index_col=0)\n",
    "y_test_clean = pd.read_csv('{}/Y_test_clean.csv'.format(path), index_col=0)\n",
    "X_train_clean = pd.read_csv('{}/X_train_clean.csv'.format(path), index_col=0)\n",
    "y_train_clean = pd.read_csv('{}/Y_train_clean.csv'.format(path), index_col=0)\n",
    "\n",
    "data = pd.read_csv('{}/german_data.csv'.format(path), index_col=0)\n",
    "data_translated = pd.read_csv('{}/german_data_translated.csv'.format(path), index_col=0)"
   ],
   "metadata": {
    "collapsed": false,
    "pycharm": {
     "name": "#%%\n"
    }
   }
  },
  {
   "cell_type": "code",
   "execution_count": 3,
   "outputs": [],
   "source": [
    "path = '../saved_models/base'\n",
    "\n",
    "weight_matrix_influence = np.load('{}/calculated_weights/influence_weight_matrix.npz'.format(path), allow_pickle=True)['weight_matrix'].squeeze()\n",
    "grad_test = np.load('{}/calculated_weights/influence_weight_matrix.npz'.format(path), allow_pickle=True)['jaccobian_test']\n",
    "weight_matrix_ours = np.load('{}/calculated_weights/ours_weight_matrix_with_lr_0.0001.npz'.format(path), allow_pickle=True)['weight_matrix'].squeeze()\n",
    "file = np.load('{}/model/saved_outputs.npz'.format(path))\n",
    "intermediate_train = torch.from_numpy(file['intermediate_train'])\n",
    "intermediate_test = torch.from_numpy(file['intermediate_test'])\n",
    "labels_train = file['labels_train']\n",
    "labels_test = file['labels_test']\n",
    "pred_train = file['pred_train']\n",
    "pred_test = file['pred_test']"
   ],
   "metadata": {
    "collapsed": false,
    "pycharm": {
     "name": "#%%\n"
    }
   }
  },
  {
   "cell_type": "code",
   "execution_count": 4,
   "outputs": [
    {
     "data": {
      "text/plain": "        existingchecking  duration  \\\nid                                   \n0                   poor         6   \n1                 little        48   \n2    no checking account        12   \n3                   poor        42   \n4                   poor        24   \n\n                                        credithistory               purpose  \\\nid                                                                            \n0    critical account/ other credits existing (not...      radio/television   \n1            existing credits paid back duly till now      radio/television   \n2    critical account/ other credits existing (not...             education   \n3            existing credits paid back duly till now   furniture/equipment   \n4                     delay in paying off in the past             car (new)   \n\n    creditamount                       savings     employmentsince  \\\nid                                                                   \n0           1169   unknown/ no savings account   more than 7 years   \n1           5951                        little        1 to 4 years   \n2           2096                        little        4 to 7 years   \n3           7882                        little        4 to 7 years   \n4           4870                        little        1 to 4 years   \n\n    installmentrate                            statussex otherdebtors  ...  \\\nid                                                                     ...   \n0                 4                         male, single         none  ...   \n1                 2   female, divorced/separated/married         none  ...   \n2                 2                         male, single         none  ...   \n3                 2                         male, single    guarantor  ...   \n4                 3                         male, single         none  ...   \n\n                                             property age  \\\nid                                                          \n0                                         real estate  67   \n1                                         real estate  22   \n2                                         real estate  49   \n3    building society savings agreement/ life insu...  45   \n4                               unknown / no property  53   \n\n    otherinstallmentplans    housing existingcredits  \\\nid                                                     \n0                    none        own               2   \n1                    none        own               1   \n2                    none        own               1   \n3                    none   for free               1   \n4                    none   for free               2   \n\n                             job peopleliable  telephone foreignworker  \\\nid                                                                       \n0    skilled employee / official            1        yes           yes   \n1    skilled employee / official            1       none           yes   \n2           unskilled - resident            2       none           yes   \n3    skilled employee / official            2       none           yes   \n4    skilled employee / official            2       none           yes   \n\n   classification  \nid                 \n0               1  \n1               2  \n2               1  \n3               1  \n4               2  \n\n[5 rows x 21 columns]",
      "text/html": "<div>\n<style scoped>\n    .dataframe tbody tr th:only-of-type {\n        vertical-align: middle;\n    }\n\n    .dataframe tbody tr th {\n        vertical-align: top;\n    }\n\n    .dataframe thead th {\n        text-align: right;\n    }\n</style>\n<table border=\"1\" class=\"dataframe\">\n  <thead>\n    <tr style=\"text-align: right;\">\n      <th></th>\n      <th>existingchecking</th>\n      <th>duration</th>\n      <th>credithistory</th>\n      <th>purpose</th>\n      <th>creditamount</th>\n      <th>savings</th>\n      <th>employmentsince</th>\n      <th>installmentrate</th>\n      <th>statussex</th>\n      <th>otherdebtors</th>\n      <th>...</th>\n      <th>property</th>\n      <th>age</th>\n      <th>otherinstallmentplans</th>\n      <th>housing</th>\n      <th>existingcredits</th>\n      <th>job</th>\n      <th>peopleliable</th>\n      <th>telephone</th>\n      <th>foreignworker</th>\n      <th>classification</th>\n    </tr>\n    <tr>\n      <th>id</th>\n      <th></th>\n      <th></th>\n      <th></th>\n      <th></th>\n      <th></th>\n      <th></th>\n      <th></th>\n      <th></th>\n      <th></th>\n      <th></th>\n      <th></th>\n      <th></th>\n      <th></th>\n      <th></th>\n      <th></th>\n      <th></th>\n      <th></th>\n      <th></th>\n      <th></th>\n      <th></th>\n      <th></th>\n    </tr>\n  </thead>\n  <tbody>\n    <tr>\n      <th>0</th>\n      <td>poor</td>\n      <td>6</td>\n      <td>critical account/ other credits existing (not...</td>\n      <td>radio/television</td>\n      <td>1169</td>\n      <td>unknown/ no savings account</td>\n      <td>more than 7 years</td>\n      <td>4</td>\n      <td>male, single</td>\n      <td>none</td>\n      <td>...</td>\n      <td>real estate</td>\n      <td>67</td>\n      <td>none</td>\n      <td>own</td>\n      <td>2</td>\n      <td>skilled employee / official</td>\n      <td>1</td>\n      <td>yes</td>\n      <td>yes</td>\n      <td>1</td>\n    </tr>\n    <tr>\n      <th>1</th>\n      <td>little</td>\n      <td>48</td>\n      <td>existing credits paid back duly till now</td>\n      <td>radio/television</td>\n      <td>5951</td>\n      <td>little</td>\n      <td>1 to 4 years</td>\n      <td>2</td>\n      <td>female, divorced/separated/married</td>\n      <td>none</td>\n      <td>...</td>\n      <td>real estate</td>\n      <td>22</td>\n      <td>none</td>\n      <td>own</td>\n      <td>1</td>\n      <td>skilled employee / official</td>\n      <td>1</td>\n      <td>none</td>\n      <td>yes</td>\n      <td>2</td>\n    </tr>\n    <tr>\n      <th>2</th>\n      <td>no checking account</td>\n      <td>12</td>\n      <td>critical account/ other credits existing (not...</td>\n      <td>education</td>\n      <td>2096</td>\n      <td>little</td>\n      <td>4 to 7 years</td>\n      <td>2</td>\n      <td>male, single</td>\n      <td>none</td>\n      <td>...</td>\n      <td>real estate</td>\n      <td>49</td>\n      <td>none</td>\n      <td>own</td>\n      <td>1</td>\n      <td>unskilled - resident</td>\n      <td>2</td>\n      <td>none</td>\n      <td>yes</td>\n      <td>1</td>\n    </tr>\n    <tr>\n      <th>3</th>\n      <td>poor</td>\n      <td>42</td>\n      <td>existing credits paid back duly till now</td>\n      <td>furniture/equipment</td>\n      <td>7882</td>\n      <td>little</td>\n      <td>4 to 7 years</td>\n      <td>2</td>\n      <td>male, single</td>\n      <td>guarantor</td>\n      <td>...</td>\n      <td>building society savings agreement/ life insu...</td>\n      <td>45</td>\n      <td>none</td>\n      <td>for free</td>\n      <td>1</td>\n      <td>skilled employee / official</td>\n      <td>2</td>\n      <td>none</td>\n      <td>yes</td>\n      <td>1</td>\n    </tr>\n    <tr>\n      <th>4</th>\n      <td>poor</td>\n      <td>24</td>\n      <td>delay in paying off in the past</td>\n      <td>car (new)</td>\n      <td>4870</td>\n      <td>little</td>\n      <td>1 to 4 years</td>\n      <td>3</td>\n      <td>male, single</td>\n      <td>none</td>\n      <td>...</td>\n      <td>unknown / no property</td>\n      <td>53</td>\n      <td>none</td>\n      <td>for free</td>\n      <td>2</td>\n      <td>skilled employee / official</td>\n      <td>2</td>\n      <td>none</td>\n      <td>yes</td>\n      <td>2</td>\n    </tr>\n  </tbody>\n</table>\n<p>5 rows × 21 columns</p>\n</div>"
     },
     "execution_count": 4,
     "metadata": {},
     "output_type": "execute_result"
    }
   ],
   "source": [
    "data_translated.head()\n"
   ],
   "metadata": {
    "collapsed": false,
    "pycharm": {
     "name": "#%%\n"
    }
   }
  },
  {
   "cell_type": "code",
   "execution_count": 5,
   "outputs": [],
   "source": [
    "wrongly_predicted_train_ids = np.argwhere(np.abs(pred_train-labels_train)>0).flatten()\n",
    "wrongly_predicted_test_ids = np.argwhere(np.abs(pred_test-labels_test)>0).flatten()"
   ],
   "metadata": {
    "collapsed": false,
    "pycharm": {
     "name": "#%%\n"
    }
   }
  },
  {
   "cell_type": "code",
   "execution_count": 6,
   "outputs": [],
   "source": [
    "names = ['existingchecking', 'duration', 'credithistory', 'purpose', 'creditamount',\n",
    "         'savings', 'employmentsince', 'installmentrate', 'statussex', 'otherdebtors',\n",
    "         'residencesince', 'property', 'age', 'otherinstallmentplans', 'housing',\n",
    "         'existingcredits', 'job', 'peopleliable', 'telephone', 'foreignworker', 'classification']\n",
    "def get_influence_order(test_point=None):\n",
    "    tmp = grad_test[test_point, 0]@ np.transpose(weight_matrix_influence)\n",
    "    pos_idx = np.argsort(tmp)\n",
    "    return pos_idx\n",
    "\n",
    "def get_ours_order(test_point=None):\n",
    "    true_class = labels_test[test_point]\n",
    "    tmp = np.dot(weight_matrix_ours,\n",
    "                 intermediate_test[test_point,:])\n",
    "    if true_class == 1:\n",
    "        pos_idx = np.flip(np.argsort(tmp), axis=0)\n",
    "    else:\n",
    "        pos_idx = np.argsort(tmp)\n",
    "    return pos_idx"
   ],
   "metadata": {
    "collapsed": false,
    "pycharm": {
     "name": "#%%\n"
    }
   }
  },
  {
   "cell_type": "code",
   "execution_count": 7,
   "outputs": [],
   "source": [
    "def get_data_by_cleaned_idx(X_cleaned, idx):\n",
    "    return data_translated.iloc[X_cleaned.iloc[idx,:]['id']], X_cleaned.iloc[idx,:]['id']\n",
    "\n",
    "def sort_by_feature_importance(df):\n",
    "    df = df[['method','type','id', 'classification',\n",
    "            'existingchecking', 'credithistory', 'savings',\n",
    "            'otherdebtors','employmentsince', 'otherinstallmentplans',\n",
    "            'housing','purpose', 'property', 'duration',\n",
    "            'creditamount','statussex','existingcredits',\n",
    "            'installmentrate','residencesince', 'age',\n",
    "            'job', 'peopleliable', 'telephone',\n",
    "            'foreignworker']]\n",
    "    return df"
   ],
   "metadata": {
    "collapsed": false,
    "pycharm": {
     "name": "#%%\n"
    }
   }
  },
  {
   "cell_type": "code",
   "execution_count": 8,
   "outputs": [],
   "source": [
    "def experiment_with_test_data(test_pt):\n",
    "    columns=['method','type','id'] + names\n",
    "    data_array_ours = []\n",
    "    data_array_IF = []\n",
    "    test_data, data_id = get_data_by_cleaned_idx(X_test_clean, test_pt)\n",
    "    data_array_ours.append(np.concatenate([[' ','Test point',data_id],test_data.values]))\n",
    "    data_array_IF.append(np.concatenate([[' ','Test point',data_id],test_data.values]))\n",
    "    ours_idx_pos_in_res = [i for i in get_ours_order(test_pt) if not i in wrongly_predicted_train_ids]\n",
    "    inf_idx_pos_in_res = [i for i in get_influence_order(test_pt) if not i in wrongly_predicted_train_ids]\n",
    "    for i in range(3):\n",
    "        our_pos_data, data_id = get_data_by_cleaned_idx(X_train_clean_res, ours_idx_pos_in_res[i])\n",
    "        data_array_ours.append(np.concatenate([['REP-LJE','Positive {}'.format(i+1),\n",
    "                                                data_id ],our_pos_data.values]))\n",
    "\n",
    "        inf_pos_data, data_id  = get_data_by_cleaned_idx(X_train_clean_res, inf_idx_pos_in_res[i])\n",
    "        data_array_IF.append(np.concatenate([['Influence function','Positive {}'.format(i+1),\n",
    "                                              data_id],inf_pos_data.values]))\n",
    "    df_ours = sort_by_feature_importance(\n",
    "        pd.DataFrame(data=data_array_ours, columns=columns))\n",
    "    df_IF = sort_by_feature_importance(\n",
    "        pd.DataFrame(data_array_IF, columns=columns))\n",
    "    df_all = pd.concat([df_ours,df_IF.iloc[1:,:]])\n",
    "    return df_ours, df_IF, df_all\n"
   ],
   "metadata": {
    "collapsed": false,
    "pycharm": {
     "name": "#%%\n"
    }
   }
  },
  {
   "cell_type": "code",
   "execution_count": 11,
   "outputs": [],
   "source": [
    "df_all_list=[]\n",
    "for i in [8, 94, 84, 56, 0, 32]:\n",
    "    df_ours, df_IF, df_all=experiment_with_test_data(i)\n",
    "    df_all_list.append(df_all)\n",
    "df_all_stack = pd.concat(df_all_list)\n",
    "df_all_stack.to_csv('results/German_credit.csv')\n"
   ],
   "metadata": {
    "collapsed": false,
    "pycharm": {
     "name": "#%%\n"
    }
   }
  }
 ],
 "metadata": {
  "kernelspec": {
   "name": "pycharm-6ec1b404",
   "language": "python",
   "display_name": "PyCharm (MAPSED)"
  },
  "language_info": {
   "codemirror_mode": {
    "name": "ipython",
    "version": 2
   },
   "file_extension": ".py",
   "mimetype": "text/x-python",
   "name": "python",
   "nbconvert_exporter": "python",
   "pygments_lexer": "ipython2",
   "version": "2.7.6"
  }
 },
 "nbformat": 4,
 "nbformat_minor": 0
}