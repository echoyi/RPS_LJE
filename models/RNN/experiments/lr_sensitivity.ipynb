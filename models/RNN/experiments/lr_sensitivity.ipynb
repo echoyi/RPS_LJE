{
 "cells": [
  {
   "cell_type": "markdown",
   "source": [
    "## Learning Rate Sensitivity of RPS-LJE\n",
    "Table 6 (appendix)"
   ],
   "metadata": {
    "collapsed": false,
    "pycharm": {
     "name": "#%% md\n"
    }
   }
  },
  {
   "cell_type": "code",
   "execution_count": null,
   "outputs": [],
   "source": [
    "import numpy as np\n",
    "import torch\n",
    "from models.RNN.utils_imdb import load_data\n",
    "\n"
   ],
   "metadata": {
    "collapsed": false,
    "pycharm": {
     "name": "#%%\n"
    }
   }
  },
  {
   "cell_type": "code",
   "execution_count": 3,
   "outputs": [],
   "source": [
    "train_data, valid_data, test_data =load_data()"
   ],
   "metadata": {
    "collapsed": false,
    "pycharm": {
     "name": "#%%\n"
    }
   }
  },
  {
   "cell_type": "code",
   "execution_count": 4,
   "outputs": [],
   "source": [
    "path = '../../saved_models/base'\n",
    "file = np.load('{}/model/saved_outputs.npz'.format(path))\n",
    "intermediate_train = torch.from_numpy(file['intermediate_train']).squeeze()\n",
    "intermediate_test = torch.from_numpy(file['intermediate_test']).squeeze()\n",
    "labels_train = file['labels_train']\n",
    "labels_test = file['labels_test']\n",
    "pred_train = file['pred_train'].squeeze()\n",
    "pred_test = file['pred_test'].squeeze()"
   ],
   "metadata": {
    "collapsed": false,
    "pycharm": {
     "name": "#%%\n"
    }
   }
  },
  {
   "cell_type": "code",
   "execution_count": 24,
   "outputs": [],
   "source": [
    "def get_ours_order(weight_matrix_ours, test_point=None):\n",
    "    true_class = labels_test[test_point]\n",
    "    tmp = np.dot(weight_matrix_ours,\n",
    "                 intermediate_test[test_point,:])\n",
    "    if true_class == 1:\n",
    "        pos_idx = np.flip(np.argsort(tmp), axis=0)\n",
    "    else:\n",
    "        pos_idx = np.argsort(tmp)\n",
    "    return pos_idx"
   ],
   "metadata": {
    "collapsed": false,
    "pycharm": {
     "name": "#%%\n"
    }
   }
  },
  {
   "cell_type": "code",
   "execution_count": 25,
   "outputs": [],
   "source": [
    "def get_text(data):\n",
    "    return ' '.join([str(elem) for elem in data.text])[:200]\n",
    "def get_label(data):\n",
    "    sentiment = {'neg':0,'pos':1}\n",
    "    return sentiment[data.label]\n",
    "    # return data.label"
   ],
   "metadata": {
    "collapsed": false,
    "pycharm": {
     "name": "#%%\n"
    }
   }
  },
  {
   "cell_type": "code",
   "execution_count": 26,
   "outputs": [],
   "source": [
    "wrongly_predicted_train_ids = np.argwhere(np.abs(np.round(pred_train)-labels_train)>0).flatten()\n",
    "wrongly_predicted_test_ids = np.argwhere(np.abs(np.round(pred_test)-labels_test)>0).flatten()"
   ],
   "metadata": {
    "collapsed": false,
    "pycharm": {
     "name": "#%%\n"
    }
   }
  },
  {
   "cell_type": "code",
   "execution_count": 27,
   "outputs": [],
   "source": [
    "lr_list = [1e-05, 0.0001, 0.001, 0.01, 0.1, 1, 10, 100]\n",
    "weight_matrix_ours_list = [np.load('{}/calculated_weights/ours_weight_matrix_with_lr_{}.npz'.\n",
    "                                   format(path, lr), allow_pickle=True)['weight_matrix'].\n",
    "                               squeeze() for lr in lr_list]"
   ],
   "metadata": {
    "collapsed": false,
    "pycharm": {
     "name": "#%%\n"
    }
   }
  },
  {
   "cell_type": "code",
   "execution_count": 28,
   "outputs": [],
   "source": [
    "import pandas as pd\n",
    "test_pt = 5\n",
    "\n",
    "columns=['lr','type','id','sentiment class','review text']\n",
    "data_array_ours = []\n",
    "data_array_rep = []\n",
    "data_array_IF = []\n",
    "\n",
    "data_array_ours.append([' ','Test point',test_pt,\n",
    "                        get_label(test_data[test_pt]),\n",
    "                        get_text(test_data[test_pt])[:200]])\n",
    "\n",
    "\n",
    "for lr_idx in range(len(lr_list)):\n",
    "    ours_idx_pos = [i for i in get_ours_order( weight_matrix_ours_list[lr_idx], test_pt) if not i in wrongly_predicted_train_ids]\n",
    "    for i in range(3):\n",
    "        our_data = train_data[ours_idx_pos[i]]\n",
    "        data_array_ours.append([lr_list[lr_idx],'Positive {}'.format(i+1), ours_idx_pos[i],\n",
    "                            get_label(our_data), get_text(our_data)[:200]])\n",
    "\n",
    "df_ours = pd.DataFrame(data=data_array_ours, columns=columns)\n",
    "df_ours.to_csv('results/ours_lr_effects.csv'.format(test_pt))"
   ],
   "metadata": {
    "collapsed": false,
    "pycharm": {
     "name": "#%%\n"
    }
   }
  }
 ],
 "metadata": {
  "kernelspec": {
   "name": "pycharm-6ec1b404",
   "language": "python",
   "display_name": "PyCharm (MAPSED)"
  },
  "language_info": {
   "codemirror_mode": {
    "name": "ipython",
    "version": 2
   },
   "file_extension": ".py",
   "mimetype": "text/x-python",
   "name": "python",
   "nbconvert_exporter": "python",
   "pygments_lexer": "ipython2",
   "version": "2.7.6"
  }
 },
 "nbformat": 4,
 "nbformat_minor": 0
}