{
 "cells": [
  {
   "cell_type": "markdown",
   "source": [
    "## Explanations of RPS-LJE, RPS-$l_2$, and Influence Function on IMDB Sentiment Classification with Bi-LSTM\n",
    "Table 1 and Table 12(Appendix)"
   ],
   "metadata": {
    "collapsed": false,
    "pycharm": {
     "name": "#%% md\n"
    }
   }
  },
  {
   "cell_type": "code",
   "execution_count": null,
   "outputs": [],
   "source": [
    "import numpy as np\n",
    "import torch\n",
    "from models.RNN.utils_imdb import load_data"
   ],
   "metadata": {
    "collapsed": false,
    "pycharm": {
     "name": "#%%\n"
    }
   }
  },
  {
   "cell_type": "markdown",
   "source": [
    "Load weight matrix and intermediate prediction of tests"
   ],
   "metadata": {
    "collapsed": false,
    "pycharm": {
     "name": "#%% md\n"
    }
   }
  },
  {
   "cell_type": "code",
   "execution_count": 2,
   "outputs": [
    {
     "data": {
      "text/plain": "(array(0.97661953), array(0.89796196))"
     },
     "execution_count": 2,
     "metadata": {},
     "output_type": "execute_result"
    }
   ],
   "source": [
    "path = '../saved_models/base'\n",
    "\n",
    "file = np.load('{}/model/saved_outputs.npz'.format(path))\n",
    "file['train_acc'], file['test_acc']"
   ],
   "metadata": {
    "collapsed": false,
    "pycharm": {
     "name": "#%%\n"
    }
   }
  },
  {
   "cell_type": "code",
   "execution_count": 10,
   "outputs": [],
   "source": [
    "train_data, valid_data, test_data =load_data()"
   ],
   "metadata": {
    "collapsed": false,
    "pycharm": {
     "name": "#%%\n"
    }
   }
  },
  {
   "cell_type": "code",
   "execution_count": 11,
   "outputs": [],
   "source": [
    "path = '../saved_models/base'\n",
    "file = np.load('{}/model/saved_outputs.npz'.format(path))\n",
    "intermediate_train = torch.from_numpy(file['intermediate_train']).squeeze()\n",
    "intermediate_test = torch.from_numpy(file['intermediate_test']).squeeze()\n",
    "labels_train = file['labels_train']\n",
    "labels_test = file['labels_test']\n",
    "pred_train = file['pred_train'].squeeze()\n",
    "pred_test = file['pred_test'].squeeze()"
   ],
   "metadata": {
    "collapsed": false,
    "pycharm": {
     "name": "#%%\n"
    }
   }
  },
  {
   "cell_type": "code",
   "execution_count": 12,
   "outputs": [],
   "source": [
    "weight_matrix_rep = np.load('{}/calculated_weights/representer_weight_matrix.npz'.format(path), allow_pickle=True)['weight_matrix']\n",
    "weight_matrix_influence = np.load('{}/calculated_weights/influence_weight_matrix.npz'.format(path), allow_pickle=True)['weight_matrix'].squeeze()\n",
    "jaccobian_test = np.load('{}/calculated_weights/influence_weight_matrix.npz'.format(path), allow_pickle=True)['jaccobian_test']\n",
    "weight_matrix_ours = np.load('{}/calculated_weights/ours_weight_matrix_with_lr_1e-05.npz'.format(path), allow_pickle=True)['weight_matrix'].squeeze()"
   ],
   "metadata": {
    "collapsed": false,
    "pycharm": {
     "name": "#%%\n"
    }
   }
  },
  {
   "cell_type": "code",
   "execution_count": 13,
   "outputs": [],
   "source": [
    "def get_representer_order(test_point=None):\n",
    "    tmp = weight_matrix_rep[:,0] * np.dot(intermediate_train,\n",
    "                                           intermediate_test[test_point,:])\n",
    "    if labels_test[test_point] == 1:\n",
    "        pos_idx = np.flip(np.argsort(tmp), axis=0)\n",
    "    else:\n",
    "        pos_idx = np.argsort(tmp)\n",
    "    return pos_idx\n",
    "\n",
    "def get_influence_order(test_point=None):\n",
    "    tmp = jaccobian_test[test_point, 0]@ np.transpose(weight_matrix_influence)\n",
    "    pos_idx = np.argsort(tmp, axis=0)\n",
    "    return pos_idx\n",
    "\n",
    "def get_ours_order(test_point=None):\n",
    "    true_class = labels_test[test_point]\n",
    "    tmp = np.dot(weight_matrix_ours,\n",
    "                 intermediate_test[test_point,:])\n",
    "    if true_class == 1:\n",
    "        pos_idx = np.flip(np.argsort(tmp), axis=0)\n",
    "    else:\n",
    "        pos_idx = np.argsort(tmp)\n",
    "    return pos_idx"
   ],
   "metadata": {
    "collapsed": false,
    "pycharm": {
     "name": "#%%\n"
    }
   }
  },
  {
   "cell_type": "code",
   "execution_count": 14,
   "outputs": [],
   "source": [
    "def get_text(data):\n",
    "    # return ' '.join([str(elem) for elem in data.text])[:160]\n",
    "    return ' '.join([str(elem) for elem in data.text])[:200]\n",
    "def get_label(data):\n",
    "    sentiment = {'neg':0,'pos':1}\n",
    "    return sentiment[data.label]\n",
    "    # return data.label"
   ],
   "metadata": {
    "collapsed": false,
    "pycharm": {
     "name": "#%%\n"
    }
   }
  },
  {
   "cell_type": "code",
   "execution_count": 15,
   "outputs": [],
   "source": [
    "wrongly_predicted_train_ids = np.argwhere(np.abs(np.round(pred_train)-labels_train)>0).flatten()\n",
    "wrongly_predicted_test_ids = np.argwhere(np.abs(np.round(pred_test)-labels_test)>0).flatten()\n",
    "\n"
   ],
   "metadata": {
    "collapsed": false,
    "pycharm": {
     "name": "#%%\n"
    }
   }
  },
  {
   "cell_type": "code",
   "execution_count": 16,
   "outputs": [],
   "source": [
    "import pandas as pd\n",
    "def experiment_with_test_data(test_pt):\n",
    "    columns=['method','type','id','sentiment class','review text']\n",
    "    data_array_ours = []\n",
    "    data_array_rep = []\n",
    "    data_array_IF = []\n",
    "\n",
    "    data_array_ours.append([' ','Test point',test_pt,\n",
    "                            get_label(test_data[test_pt]),\n",
    "                            get_text(test_data[test_pt])])\n",
    "    data_array_rep.append([' ','Test point',test_pt,\n",
    "                            get_label(test_data[test_pt]),\n",
    "                            get_text(test_data[test_pt])])\n",
    "    data_array_IF.append([' ','Test point',test_pt,\n",
    "                            get_label(test_data[test_pt]),\n",
    "                            get_text(test_data[test_pt])])\n",
    "    ours_idx_pos = [i for i in get_ours_order(test_pt) if not i in wrongly_predicted_train_ids]\n",
    "    ours_idx_neg = np.flip(ours_idx_pos)\n",
    "\n",
    "    rep_idx_pos = [i for i in get_representer_order(test_pt) if not i in wrongly_predicted_train_ids]\n",
    "    rep_idx_neg = np.flip(rep_idx_pos)\n",
    "\n",
    "    inf_idx_pos = [i for i in get_influence_order(test_pt) if not i in wrongly_predicted_train_ids]\n",
    "    inf_idx_neg = np.flip(inf_idx_pos)\n",
    "\n",
    "    for i in range(3):\n",
    "        our_data = train_data[ours_idx_pos[i]]\n",
    "        data_array_ours.append(['RPS-LJE','Positive {}'.format(i+1), ours_idx_pos[i],\n",
    "                                get_label(our_data), get_text(our_data)])\n",
    "\n",
    "        rep_data = train_data[rep_idx_pos[i]]\n",
    "        data_array_rep.append(['RPS-$l_2$','Positive {}'.format(i+1), rep_idx_pos[i],\n",
    "                                get_label(rep_data), get_text(rep_data)])\n",
    "\n",
    "        inf_data = train_data[inf_idx_pos[i]]\n",
    "        data_array_IF.append(['Influence function','Positive {}'.format(i+1), inf_idx_pos[i],\n",
    "                                get_label(inf_data), get_text(inf_data)])\n",
    "\n",
    "    df_ours = pd.DataFrame(data=data_array_ours, columns=columns)\n",
    "    df_rep = pd.DataFrame(data=data_array_rep, columns=columns)\n",
    "    df_IF = pd.DataFrame(data_array_IF, columns=columns)\n",
    "    df_all = pd.concat([df_ours,df_rep.iloc[1:,:], df_IF.iloc[1:,:]])\n",
    "    return df_all, df_ours, df_rep, df_IF"
   ],
   "metadata": {
    "collapsed": false,
    "pycharm": {
     "name": "#%%\n"
    }
   }
  },
  {
   "cell_type": "code",
   "execution_count": 17,
   "outputs": [],
   "source": [
    "samples = [41, 289, 293, 450, 525, 13147, 13087]\n",
    "df_list = []\n",
    "for i in samples:\n",
    "    df_all, df_ours, df_rep, df_IF = experiment_with_test_data(i)\n",
    "    df_list.append(df_all)\n",
    "df_IMDB = pd.concat(df_list)\n",
    "df_IMDB.to_csv('results/IMDB_case_study.csv')"
   ],
   "metadata": {
    "collapsed": false,
    "pycharm": {
     "name": "#%%\n"
    }
   }
  },
  {
   "cell_type": "code",
   "execution_count": 17,
   "outputs": [],
   "source": [],
   "metadata": {
    "collapsed": false,
    "pycharm": {
     "name": "#%%\n"
    }
   }
  }
 ],
 "metadata": {
  "kernelspec": {
   "name": "pycharm-6ec1b404",
   "language": "python",
   "display_name": "PyCharm (MAPSED)"
  },
  "language_info": {
   "codemirror_mode": {
    "name": "ipython",
    "version": 2
   },
   "file_extension": ".py",
   "mimetype": "text/x-python",
   "name": "python",
   "nbconvert_exporter": "python",
   "pygments_lexer": "ipython2",
   "version": "2.7.6"
  }
 },
 "nbformat": 4,
 "nbformat_minor": 0
}