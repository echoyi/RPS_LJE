{
 "cells": [
  {
   "cell_type": "markdown",
   "metadata": {
    "collapsed": true,
    "pycharm": {
     "name": "#%% md\n"
    }
   },
   "source": [
    "## Pearson and Spearman correlations between the top-5 explanations from RPS-LJE and Influence Functions\n",
    "Table 7 (appendix) and Table 8 (appendix)"
   ]
  },
  {
   "cell_type": "code",
   "execution_count": 1,
   "outputs": [],
   "source": [
    "import numpy as np\n",
    "import torch\n",
    "path = '../saved_models/base'\n",
    "file = np.load('{}/model/saved_outputs.npz'.format(path))\n",
    "intermediate_train = torch.from_numpy(file['intermediate_train']).squeeze()\n",
    "intermediate_test = torch.from_numpy(file['intermediate_test']).squeeze()\n",
    "labels_train = file['labels_train']\n",
    "labels_test = file['labels_test']\n",
    "pred_train = file['pred_train'].squeeze()\n",
    "pred_test = file['pred_test'].squeeze()"
   ],
   "metadata": {
    "collapsed": false,
    "pycharm": {
     "name": "#%%\n"
    }
   }
  },
  {
   "cell_type": "code",
   "execution_count": 2,
   "outputs": [],
   "source": [
    "weight_matrix_influence = np.load('{}/calculated_weights/influence_weight_matrix.npz'.format(path), allow_pickle=True)['weight_matrix'].squeeze()\n",
    "jaccobian_test = np.load('{}/calculated_weights/influence_weight_matrix.npz'.format(path), allow_pickle=True)['jaccobian_test']\n",
    "weight_matrix_ours = np.load('{}/calculated_weights/ours_weight_matrix_with_lr_1e-05.npz'.format(path), allow_pickle=True)['weight_matrix'].squeeze()\n"
   ],
   "metadata": {
    "collapsed": false,
    "pycharm": {
     "name": "#%%\n"
    }
   }
  },
  {
   "cell_type": "code",
   "execution_count": 3,
   "outputs": [],
   "source": [
    "\n",
    "def get_influence_order(test_point=None):\n",
    "    tmp = jaccobian_test[test_point, 0]@ np.transpose(weight_matrix_influence)\n",
    "    pos_idx = np.argsort(tmp, axis=0)\n",
    "    return pos_idx, tmp\n",
    "\n",
    "def get_ours_order(test_point=None):\n",
    "    true_class = labels_test[test_point]\n",
    "    tmp = np.dot(weight_matrix_ours,\n",
    "                 intermediate_test[test_point,:])\n",
    "    if true_class == 1:\n",
    "        pos_idx = np.flip(np.argsort(tmp), axis=0)\n",
    "        tmp = -tmp\n",
    "    else:\n",
    "        pos_idx = np.argsort(tmp)\n",
    "    return pos_idx,tmp"
   ],
   "metadata": {
    "collapsed": false,
    "pycharm": {
     "name": "#%%\n"
    }
   }
  },
  {
   "cell_type": "code",
   "execution_count": 4,
   "outputs": [],
   "source": [
    "from scipy.stats import spearmanr, pearsonr\n",
    "\n",
    "pearson_correlation_list = []\n",
    "spearman_correlation_list = []\n",
    "kendall_correlation_list= []\n",
    "for i in range(len(intermediate_test)):\n",
    "    order_ours, importance_ours = get_ours_order(test_point=i)\n",
    "    order_inf, importance_inf = get_influence_order(test_point=i)\n",
    "\n",
    "    top_5_idx = list(set(order_inf[:5]).union(set(order_ours[:5])))\n",
    "\n",
    "    pearson_correlation_list.append(pearsonr(importance_inf[top_5_idx],\n",
    "                                             importance_ours[top_5_idx])[0])\n",
    "    spearman_correlation_list.append(spearmanr(importance_inf[top_5_idx],\n",
    "                                               importance_ours[top_5_idx])[0])"
   ],
   "metadata": {
    "collapsed": false,
    "pycharm": {
     "name": "#%%\n"
    }
   }
  },
  {
   "cell_type": "code",
   "execution_count": 5,
   "outputs": [
    {
     "data": {
      "text/plain": "array([0.14841145, 0.77886628, 0.95136279, 0.99556548, 0.99920157,\n       0.99973452, 0.99991155, 0.9999829 ])"
     },
     "execution_count": 5,
     "metadata": {},
     "output_type": "execute_result"
    }
   ],
   "source": [
    "np.quantile(pearson_correlation_list, q=[0.0001,0.001,0.01,0.1,0.3,0.5,0.7,0.9],\n",
    "            interpolation='lower')"
   ],
   "metadata": {
    "collapsed": false,
    "pycharm": {
     "name": "#%%\n"
    }
   }
  },
  {
   "cell_type": "code",
   "execution_count": 6,
   "outputs": [
    {
     "data": {
      "text/plain": "array([0.1, 0.4, 0.7, 0.9, 1. , 1. , 1. , 1. ])"
     },
     "execution_count": 6,
     "metadata": {},
     "output_type": "execute_result"
    }
   ],
   "source": [
    "np.quantile(spearman_correlation_list, q=[0.0001,0.001,0.01,0.1,0.3,0.5,0.7,0.9],\n",
    "            interpolation='lower')\n"
   ],
   "metadata": {
    "collapsed": false,
    "pycharm": {
     "name": "#%%\n"
    }
   }
  }
 ],
 "metadata": {
  "kernelspec": {
   "name": "pycharm-6ec1b404",
   "language": "python",
   "display_name": "PyCharm (MAPSED)"
  },
  "language_info": {
   "codemirror_mode": {
    "name": "ipython",
    "version": 2
   },
   "file_extension": ".py",
   "mimetype": "text/x-python",
   "name": "python",
   "nbconvert_exporter": "python",
   "pygments_lexer": "ipython2",
   "version": "2.7.6"
  }
 },
 "nbformat": 4,
 "nbformat_minor": 0
}